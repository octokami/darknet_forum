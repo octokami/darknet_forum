{
 "cells": [
  {
   "cell_type": "markdown",
   "source": [
    "# Extracting the data from the scraped 8chan forum (Dark Web)\n",
    "We start by importing the scraped data that was saved in the txt file."
   ],
   "metadata": {
    "collapsed": false,
    "pycharm": {
     "name": "#%% md\n"
    }
   }
  },
  {
   "cell_type": "code",
   "execution_count": 1,
   "outputs": [],
   "source": [
    "import ast\n",
    "\n",
    "with open('8chan_dark_web.txt', 'r') as text_file:\n",
    "    content = ''\n",
    "    chunk = text_file.read(1024)  # Read 1KB at a time\n",
    "    while chunk:\n",
    "        content += chunk\n",
    "        chunk = text_file.read(1024)\n",
    "\n",
    "    # Convert the string list to actual list\n",
    "    video_games_content_list = ast.literal_eval(content)"
   ],
   "metadata": {
    "collapsed": false,
    "pycharm": {
     "name": "#%%\n"
    }
   }
  },
  {
   "cell_type": "code",
   "execution_count": 48,
   "outputs": [],
   "source": [
    "from bs4 import BeautifulSoup\n",
    "from pandas import DataFrame\n",
    "\n",
    "video_games_data: DataFrame\n",
    "\n",
    "# Get information from the page content\n",
    "title_list = []\n",
    "poster_id_list = []\n",
    "post_number_list = []\n",
    "replies_to_list = []\n",
    "post_text_list = []\n",
    "\n",
    "for page_content in video_games_content_list:\n",
    "    soup = BeautifulSoup(page_content)\n",
    "\n",
    "    # Find the original post and the replies\n",
    "    original_post, replies = soup.find('div', {'class': 'innerOP'}), soup.find('div', {'class': 'divPosts'})\n",
    "\n",
    "    # If either of them cannot be found, skip this entry\n",
    "    if original_post is None or replies is None:\n",
    "        continue\n",
    "\n",
    "    # Get the title\n",
    "    title = original_post.find('span', {'class': 'labelSubject'})\n",
    "    if title is not None:\n",
    "        title = title.text\n",
    "\n",
    "    # Go over all replies\n",
    "    for reply in replies:\n",
    "        # Get the poster ID\n",
    "        poster_id = reply.find('span', {'class': 'labelId'})\n",
    "        if poster_id is not None:\n",
    "            poster_id = poster_id.text\n",
    "\n",
    "        # Get the post number\n",
    "        post_no = reply.find('a', {'class': 'linkQuote'})\n",
    "        if post_no is not None:\n",
    "            post_no = post_no.text\n",
    "\n",
    "        # Get the text of the post\n",
    "        text = reply.find('div', {'class': 'divMessage'})\n",
    "        if text is None:\n",
    "            print('text is none!')\n",
    "            continue\n",
    "\n",
    "        # Get all replies separately\n",
    "        if '>>' in text.text:\n",
    "            splitted_text = text.text.split('>>')\n",
    "            for split in splitted_text:\n",
    "                if len(split) > 0:\n",
    "                    title_list.append(title)\n",
    "                    poster_id_list.append(poster_id)\n",
    "                    post_number_list.append(post_no)\n",
    "                    replies_to_list.append(split[:6])\n",
    "                    post_text_list.append(split[6:])\n",
    "        else:\n",
    "            title_list.append(title)\n",
    "            poster_id_list.append(poster_id)\n",
    "            post_number_list.append(post_no)\n",
    "            replies_to_list.append(None)\n",
    "            post_text_list.append(text.text)"
   ],
   "metadata": {
    "collapsed": false,
    "pycharm": {
     "name": "#%%\n"
    }
   }
  },
  {
   "cell_type": "code",
   "execution_count": 49,
   "outputs": [
    {
     "name": "stdout",
     "output_type": "stream",
     "text": [
      "32420 32420 32420 32420 32420\n"
     ]
    }
   ],
   "source": [
    "print(len(title_list), len(poster_id_list), len(post_number_list), len(replies_to_list), len(post_text_list))"
   ],
   "metadata": {
    "collapsed": false,
    "pycharm": {
     "name": "#%%\n"
    }
   }
  },
  {
   "cell_type": "code",
   "execution_count": 51,
   "outputs": [],
   "source": [
    "from typing import Optional\n",
    "import pandas as pd\n",
    "from bs4 import BeautifulSoup\n",
    "from pandas import DataFrame\n",
    "\n",
    "video_games_data: Optional[DataFrame] = None\n",
    "\n",
    "# Get information from the page content\n",
    "title_list = []\n",
    "poster_id_list = []\n",
    "post_number_list = []\n",
    "replies_to_list = []\n",
    "post_text_list = []\n",
    "\n",
    "for page_content in video_games_content_list:\n",
    "    soup = BeautifulSoup(page_content)\n",
    "\n",
    "    # Find the original post and the replies\n",
    "    original_post, replies = soup.find('div', {'class': 'innerOP'}), soup.find('div', {'class': 'divPosts'})\n",
    "\n",
    "    # If either of them cannot be found, skip this entry\n",
    "    if original_post is None or replies is None:\n",
    "        continue\n",
    "\n",
    "    # Get the title\n",
    "    title = original_post.find('span', {'class': 'labelSubject'})\n",
    "    if title is not None:\n",
    "        title = title.text\n",
    "\n",
    "    # Go over all replies\n",
    "    for reply in replies:\n",
    "        # Get the poster ID\n",
    "        poster_id = reply.find('span', {'class': 'labelId'})\n",
    "        if poster_id is not None:\n",
    "            poster_id = poster_id.text\n",
    "\n",
    "        # Get the post number\n",
    "        post_no = reply.find('a', {'class': 'linkQuote'})\n",
    "        if post_no is not None:\n",
    "            post_no = post_no.text\n",
    "\n",
    "        # Get the text of the post\n",
    "        text = reply.find('div', {'class': 'divMessage'})\n",
    "        if text is None:\n",
    "            print('text is none!')\n",
    "            continue\n",
    "\n",
    "        # Get all replies separately\n",
    "        if '>>' in text.text:\n",
    "            splitted_text = text.text.split('>>')\n",
    "            for split in splitted_text:\n",
    "                if len(split) > 0:\n",
    "                    poster_id_list.append(poster_id)\n",
    "                    post_number_list.append(post_no)\n",
    "                    replies_to_list.append(split[:6])\n",
    "                    post_text_list.append(split[6:])\n",
    "        else:\n",
    "            poster_id_list.append(poster_id)\n",
    "            post_number_list.append(post_no)\n",
    "            replies_to_list.append(None)\n",
    "            post_text_list.append(text.text)\n",
    "\n",
    "    data = {\n",
    "        'thread_title':title,\n",
    "        'post_number':post_number_list,\n",
    "        'poster_id': poster_id_list,\n",
    "        'replies_to': replies_to_list,\n",
    "        'text': post_text_list,\n",
    "    }\n",
    "\n",
    "    if video_games_data is None:\n",
    "        video_games_data = pd.DataFrame(data)\n",
    "    else:\n",
    "        video_games_data = pd.concat([video_games_data, pd.DataFrame(data)])"
   ],
   "metadata": {
    "collapsed": false,
    "pycharm": {
     "name": "#%%\n"
    }
   }
  },
  {
   "cell_type": "code",
   "execution_count": 52,
   "outputs": [
    {
     "data": {
      "text/plain": "                                  thread_title post_number poster_id  \\\n0      OFFICIAL DEMO DAY THREAD ~ /v/ + /agdg/      823411    f065dd   \n1      OFFICIAL DEMO DAY THREAD ~ /v/ + /agdg/      823419    f065dd   \n2      OFFICIAL DEMO DAY THREAD ~ /v/ + /agdg/      823454    1bd3d8   \n3      OFFICIAL DEMO DAY THREAD ~ /v/ + /agdg/      823660    f065dd   \n4      OFFICIAL DEMO DAY THREAD ~ /v/ + /agdg/      823804    5c3c09   \n...                                        ...         ...       ...   \n32415              SMT Imagine lawsuit is done      781689    94f870   \n32416              SMT Imagine lawsuit is done      783223    477034   \n32417              SMT Imagine lawsuit is done      784839    94f870   \n32418              SMT Imagine lawsuit is done      802667    94713d   \n32419              SMT Imagine lawsuit is done      802671    3189f1   \n\n      replies_to                                               text  \n0           None                 Anchor post. Link your demos here.  \n1         823411  \\nHere is my GZDoom weapon mod (Renamon Doom M...  \n2         823411  \\nNEON BLASTER (5/5/2023 BUILD)\\n\\nMega link: ...  \n3         823454  \\nPlayed a bit of your demo. Well it works und...  \n4         Ehehe,   looking about as sparse as last demo day too....  \n...          ...                                                ...  \n32415     781299  \\nDeleting everything on github was explicitly...  \n32416     781689                                 \\nIf r*ddit can...  \n32417     783223  \\nAnd there are still several forks of the cod...  \n32418       None  Did anything ever happen with this, such as so...  \n32419     780822                  \\nIt sounds pretty much the same.  \n\n[3210188 rows x 5 columns]",
      "text/html": "<div>\n<style scoped>\n    .dataframe tbody tr th:only-of-type {\n        vertical-align: middle;\n    }\n\n    .dataframe tbody tr th {\n        vertical-align: top;\n    }\n\n    .dataframe thead th {\n        text-align: right;\n    }\n</style>\n<table border=\"1\" class=\"dataframe\">\n  <thead>\n    <tr style=\"text-align: right;\">\n      <th></th>\n      <th>thread_title</th>\n      <th>post_number</th>\n      <th>poster_id</th>\n      <th>replies_to</th>\n      <th>text</th>\n    </tr>\n  </thead>\n  <tbody>\n    <tr>\n      <th>0</th>\n      <td>OFFICIAL DEMO DAY THREAD ~ /v/ + /agdg/</td>\n      <td>823411</td>\n      <td>f065dd</td>\n      <td>None</td>\n      <td>Anchor post. Link your demos here.</td>\n    </tr>\n    <tr>\n      <th>1</th>\n      <td>OFFICIAL DEMO DAY THREAD ~ /v/ + /agdg/</td>\n      <td>823419</td>\n      <td>f065dd</td>\n      <td>823411</td>\n      <td>\\nHere is my GZDoom weapon mod (Renamon Doom M...</td>\n    </tr>\n    <tr>\n      <th>2</th>\n      <td>OFFICIAL DEMO DAY THREAD ~ /v/ + /agdg/</td>\n      <td>823454</td>\n      <td>1bd3d8</td>\n      <td>823411</td>\n      <td>\\nNEON BLASTER (5/5/2023 BUILD)\\n\\nMega link: ...</td>\n    </tr>\n    <tr>\n      <th>3</th>\n      <td>OFFICIAL DEMO DAY THREAD ~ /v/ + /agdg/</td>\n      <td>823660</td>\n      <td>f065dd</td>\n      <td>823454</td>\n      <td>\\nPlayed a bit of your demo. Well it works und...</td>\n    </tr>\n    <tr>\n      <th>4</th>\n      <td>OFFICIAL DEMO DAY THREAD ~ /v/ + /agdg/</td>\n      <td>823804</td>\n      <td>5c3c09</td>\n      <td>Ehehe,</td>\n      <td>looking about as sparse as last demo day too....</td>\n    </tr>\n    <tr>\n      <th>...</th>\n      <td>...</td>\n      <td>...</td>\n      <td>...</td>\n      <td>...</td>\n      <td>...</td>\n    </tr>\n    <tr>\n      <th>32415</th>\n      <td>SMT Imagine lawsuit is done</td>\n      <td>781689</td>\n      <td>94f870</td>\n      <td>781299</td>\n      <td>\\nDeleting everything on github was explicitly...</td>\n    </tr>\n    <tr>\n      <th>32416</th>\n      <td>SMT Imagine lawsuit is done</td>\n      <td>783223</td>\n      <td>477034</td>\n      <td>781689</td>\n      <td>\\nIf r*ddit can...</td>\n    </tr>\n    <tr>\n      <th>32417</th>\n      <td>SMT Imagine lawsuit is done</td>\n      <td>784839</td>\n      <td>94f870</td>\n      <td>783223</td>\n      <td>\\nAnd there are still several forks of the cod...</td>\n    </tr>\n    <tr>\n      <th>32418</th>\n      <td>SMT Imagine lawsuit is done</td>\n      <td>802667</td>\n      <td>94713d</td>\n      <td>None</td>\n      <td>Did anything ever happen with this, such as so...</td>\n    </tr>\n    <tr>\n      <th>32419</th>\n      <td>SMT Imagine lawsuit is done</td>\n      <td>802671</td>\n      <td>3189f1</td>\n      <td>780822</td>\n      <td>\\nIt sounds pretty much the same.</td>\n    </tr>\n  </tbody>\n</table>\n<p>3210188 rows × 5 columns</p>\n</div>"
     },
     "execution_count": 52,
     "metadata": {},
     "output_type": "execute_result"
    }
   ],
   "source": [
    "video_games_data"
   ],
   "metadata": {
    "collapsed": false,
    "pycharm": {
     "name": "#%%\n"
    }
   }
  },
  {
   "cell_type": "markdown",
   "source": [
    "## Data cleaning\n",
    "First, we delete > and \\n from the text."
   ],
   "metadata": {
    "collapsed": false,
    "pycharm": {
     "name": "#%% md\n"
    }
   }
  },
  {
   "cell_type": "code",
   "execution_count": 53,
   "outputs": [
    {
     "data": {
      "text/plain": "0                       Anchor post. Link your demos here.\n1        Here is my GZDoom weapon mod (Renamon Doom Mod...\n2        NEON BLASTER (5/5/2023 BUILD)Mega link: https:...\n3        Played a bit of your demo. Well it works under...\n4          looking about as sparse as last demo day too...\n                               ...                        \n32415    Deleting everything on github was explicitly o...\n32416                                     If r*ddit can...\n32417    And there are still several forks of the code ...\n32418    Did anything ever happen with this, such as so...\n32419                      It sounds pretty much the same.\nName: text, Length: 3210188, dtype: object"
     },
     "execution_count": 53,
     "metadata": {},
     "output_type": "execute_result"
    }
   ],
   "source": [
    "video_games_data['text'] = video_games_data['text'].apply(lambda x: x.replace(\">\", \"\").replace(\"\\n\", \"\"))\n",
    "video_games_data['text']"
   ],
   "metadata": {
    "collapsed": false,
    "pycharm": {
     "name": "#%%\n"
    }
   }
  },
  {
   "cell_type": "code",
   "execution_count": 55,
   "outputs": [
    {
     "data": {
      "text/plain": "                                  thread_title post_number poster_id  \\\n0      OFFICIAL DEMO DAY THREAD ~ /v/ + /agdg/      823411    f065dd   \n1      OFFICIAL DEMO DAY THREAD ~ /v/ + /agdg/      823419    f065dd   \n2      OFFICIAL DEMO DAY THREAD ~ /v/ + /agdg/      823454    1bd3d8   \n3      OFFICIAL DEMO DAY THREAD ~ /v/ + /agdg/      823660    f065dd   \n4      OFFICIAL DEMO DAY THREAD ~ /v/ + /agdg/      823804    5c3c09   \n...                                        ...         ...       ...   \n32415              SMT Imagine lawsuit is done      781689    94f870   \n32416              SMT Imagine lawsuit is done      783223    477034   \n32417              SMT Imagine lawsuit is done      784839    94f870   \n32418              SMT Imagine lawsuit is done      802667    94713d   \n32419              SMT Imagine lawsuit is done      802671    3189f1   \n\n      replies_to                                               text  \n0           None                 Anchor post. Link your demos here.  \n1         823411  Here is my GZDoom weapon mod (Renamon Doom Mod...  \n2         823411  NEON BLASTER (5/5/2023 BUILD)Mega link: https:...  \n3         823454  Played a bit of your demo. Well it works under...  \n4         Ehehe,    looking about as sparse as last demo day too...  \n...          ...                                                ...  \n32415     781299  Deleting everything on github was explicitly o...  \n32416     781689                                   If r*ddit can...  \n32417     783223  And there are still several forks of the code ...  \n32418       None  Did anything ever happen with this, such as so...  \n32419     780822                    It sounds pretty much the same.  \n\n[3210188 rows x 5 columns]",
      "text/html": "<div>\n<style scoped>\n    .dataframe tbody tr th:only-of-type {\n        vertical-align: middle;\n    }\n\n    .dataframe tbody tr th {\n        vertical-align: top;\n    }\n\n    .dataframe thead th {\n        text-align: right;\n    }\n</style>\n<table border=\"1\" class=\"dataframe\">\n  <thead>\n    <tr style=\"text-align: right;\">\n      <th></th>\n      <th>thread_title</th>\n      <th>post_number</th>\n      <th>poster_id</th>\n      <th>replies_to</th>\n      <th>text</th>\n    </tr>\n  </thead>\n  <tbody>\n    <tr>\n      <th>0</th>\n      <td>OFFICIAL DEMO DAY THREAD ~ /v/ + /agdg/</td>\n      <td>823411</td>\n      <td>f065dd</td>\n      <td>None</td>\n      <td>Anchor post. Link your demos here.</td>\n    </tr>\n    <tr>\n      <th>1</th>\n      <td>OFFICIAL DEMO DAY THREAD ~ /v/ + /agdg/</td>\n      <td>823419</td>\n      <td>f065dd</td>\n      <td>823411</td>\n      <td>Here is my GZDoom weapon mod (Renamon Doom Mod...</td>\n    </tr>\n    <tr>\n      <th>2</th>\n      <td>OFFICIAL DEMO DAY THREAD ~ /v/ + /agdg/</td>\n      <td>823454</td>\n      <td>1bd3d8</td>\n      <td>823411</td>\n      <td>NEON BLASTER (5/5/2023 BUILD)Mega link: https:...</td>\n    </tr>\n    <tr>\n      <th>3</th>\n      <td>OFFICIAL DEMO DAY THREAD ~ /v/ + /agdg/</td>\n      <td>823660</td>\n      <td>f065dd</td>\n      <td>823454</td>\n      <td>Played a bit of your demo. Well it works under...</td>\n    </tr>\n    <tr>\n      <th>4</th>\n      <td>OFFICIAL DEMO DAY THREAD ~ /v/ + /agdg/</td>\n      <td>823804</td>\n      <td>5c3c09</td>\n      <td>Ehehe,</td>\n      <td>looking about as sparse as last demo day too...</td>\n    </tr>\n    <tr>\n      <th>...</th>\n      <td>...</td>\n      <td>...</td>\n      <td>...</td>\n      <td>...</td>\n      <td>...</td>\n    </tr>\n    <tr>\n      <th>32415</th>\n      <td>SMT Imagine lawsuit is done</td>\n      <td>781689</td>\n      <td>94f870</td>\n      <td>781299</td>\n      <td>Deleting everything on github was explicitly o...</td>\n    </tr>\n    <tr>\n      <th>32416</th>\n      <td>SMT Imagine lawsuit is done</td>\n      <td>783223</td>\n      <td>477034</td>\n      <td>781689</td>\n      <td>If r*ddit can...</td>\n    </tr>\n    <tr>\n      <th>32417</th>\n      <td>SMT Imagine lawsuit is done</td>\n      <td>784839</td>\n      <td>94f870</td>\n      <td>783223</td>\n      <td>And there are still several forks of the code ...</td>\n    </tr>\n    <tr>\n      <th>32418</th>\n      <td>SMT Imagine lawsuit is done</td>\n      <td>802667</td>\n      <td>94713d</td>\n      <td>None</td>\n      <td>Did anything ever happen with this, such as so...</td>\n    </tr>\n    <tr>\n      <th>32419</th>\n      <td>SMT Imagine lawsuit is done</td>\n      <td>802671</td>\n      <td>3189f1</td>\n      <td>780822</td>\n      <td>It sounds pretty much the same.</td>\n    </tr>\n  </tbody>\n</table>\n<p>3210188 rows × 5 columns</p>\n</div>"
     },
     "execution_count": 55,
     "metadata": {},
     "output_type": "execute_result"
    }
   ],
   "source": [
    "video_games_data"
   ],
   "metadata": {
    "collapsed": false,
    "pycharm": {
     "name": "#%%\n"
    }
   }
  },
  {
   "cell_type": "markdown",
   "source": [
    "We save the data as csv."
   ],
   "metadata": {
    "collapsed": false
   }
  },
  {
   "cell_type": "code",
   "execution_count": 56,
   "outputs": [],
   "source": [
    "video_games_data.to_csv(\"forum_dark_web_8chan.csv\")"
   ],
   "metadata": {
    "collapsed": false,
    "pycharm": {
     "name": "#%%\n"
    }
   }
  }
 ],
 "metadata": {
  "kernelspec": {
   "display_name": "Python 3",
   "language": "python",
   "name": "python3"
  },
  "language_info": {
   "codemirror_mode": {
    "name": "ipython",
    "version": 2
   },
   "file_extension": ".py",
   "mimetype": "text/x-python",
   "name": "python",
   "nbconvert_exporter": "python",
   "pygments_lexer": "ipython2",
   "version": "2.7.6"
  }
 },
 "nbformat": 4,
 "nbformat_minor": 0
}