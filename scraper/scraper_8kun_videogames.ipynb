{
 "cells": [
  {
   "attachments": {},
   "cell_type": "markdown",
   "metadata": {
    "collapsed": false
   },
   "source": [
    "# Scraping of 8kun videogames forum\n",
    "We start by importing the request library and getting the main page."
   ]
  },
  {
   "cell_type": "code",
   "execution_count": 50,
   "metadata": {
    "collapsed": false,
    "pycharm": {
     "name": "#%%\n"
    }
   },
   "outputs": [],
   "source": [
    "import requests\n",
    "from bs4 import BeautifulSoup"
   ]
  },
  {
   "cell_type": "code",
   "execution_count": 55,
   "metadata": {
    "collapsed": false,
    "pycharm": {
     "name": "#%%\n"
    }
   },
   "outputs": [],
   "source": [
    "# Scrape and get links\n",
    "def get_post_link(url: str) -> list[str]:\n",
    "    \"\"\"\n",
    "    Scrapes the page and returns the link of the post\n",
    "    :param url: the url of the main page with all threads\n",
    "    :return: All urls to scrape\n",
    "    \"\"\"\n",
    "    all_links_on_page: list[str] = []\n",
    "\n",
    "    # Scrape\n",
    "    r = requests.get(url)\n",
    "\n",
    "    # Next, we use BeautifulSoup to parse the HTML and look into the contents.\n",
    "    soup = BeautifulSoup(r.content, 'html.parser')\n",
    "\n",
    "    # The forum consists of multiple threads. Every thread is in a div item with class=thread, so we will find all of the threads first.\n",
    "    threads = soup.find_all(\"div\", {\"class\": \"thread\"})\n",
    "\n",
    "    # Get links from threads\n",
    "    for thread in threads:\n",
    "        # Get the main thread post (original post)\n",
    "        original_post = thread.find('div', {'class': 'post op has-file body-not-empty'})\n",
    "        if original_post:\n",
    "            # # Get the title\n",
    "            # title = original_post.find('a', {'class': 'thread_subject_link'})\n",
    "            # if not title:\n",
    "            #     continue\n",
    "            # print(f\"Title: {title.text}\")\n",
    "\n",
    "            # Get the link to the full thread\n",
    "            if original_post.find('a', {'class': 'open_thread_index'}):\n",
    "                link_to_thread = 'https://8kun.top' + original_post.find('a', {'class': 'open_thread_index'})['href']\n",
    "                all_links_on_page.append(link_to_thread)\n",
    "\n",
    "        # If it cannot be found, go to the next thread\n",
    "        else:\n",
    "            continue\n",
    "\n",
    "    return all_links_on_page"
   ]
  },
  {
   "cell_type": "code",
   "execution_count": 57,
   "metadata": {
    "collapsed": false,
    "pycharm": {
     "name": "#%%\n"
    }
   },
   "outputs": [],
   "source": [
    "from time import sleep\n",
    "from random import randint\n",
    "\n",
    "# List of all links to scrape:\n",
    "urls_to_scrape: list[list[str]] = []\n",
    "\n",
    "# Main URL\n",
    "url = 'https://8kun.top/v/index.html'\n",
    "\n",
    "urls_to_scrape.append(get_post_link(url))\n",
    "\n",
    "\n",
    "for page in range(2, 11):  # There are only 10 pages\n",
    "    sleep(randint(1,7))\n",
    "    url = f'https://8kun.top/v/{page}.html?'\n",
    "    urls_to_scrape.append(get_post_link(url))"
   ]
  },
  {
   "attachments": {},
   "cell_type": "markdown",
   "metadata": {
    "collapsed": false
   },
   "source": [
    "Next download the forums themselves."
   ]
  },
  {
   "cell_type": "code",
   "execution_count": 59,
   "metadata": {
    "collapsed": false,
    "pycharm": {
     "name": "#%%\n"
    }
   },
   "outputs": [
    {
     "name": "stdout",
     "output_type": "stream",
     "text": [
      "[['https://8kun.top/v/res/16960643.html', 'https://8kun.top/v/res/16960641.html', 'https://8kun.top/v/res/16960640.html', 'https://8kun.top/v/res/16960639.html', 'https://8kun.top/v/res/16960637.html', 'https://8kun.top/v/res/16944767.html', 'https://8kun.top/v/res/16960620.html', 'https://8kun.top/v/res/16960616.html', 'https://8kun.top/v/res/16960615.html', 'https://8kun.top/v/res/16960614.html', 'https://8kun.top/v/res/16959090.html', 'https://8kun.top/v/res/16960608.html', 'https://8kun.top/v/res/16960600.html', 'https://8kun.top/v/res/16960605.html', 'https://8kun.top/v/res/16960159.html'], ['https://8kun.top/v/res/16956390.html', 'https://8kun.top/v/res/16952150.html', 'https://8kun.top/v/res/16960516.html', 'https://8kun.top/v/res/16960466.html', 'https://8kun.top/v/res/16960480.html', 'https://8kun.top/v/res/16960456.html', 'https://8kun.top/v/res/16959924.html', 'https://8kun.top/v/res/16960467.html', 'https://8kun.top/v/res/16958787.html', 'https://8kun.top/v/res/16960459.html', 'https://8kun.top/v/res/16951195.html', 'https://8kun.top/v/res/16960455.html', 'https://8kun.top/v/res/16960063.html', 'https://8kun.top/v/res/16960168.html', 'https://8kun.top/v/res/16960421.html'], ['https://8kun.top/v/res/16960420.html', 'https://8kun.top/v/res/16960356.html', 'https://8kun.top/v/res/16959629.html', 'https://8kun.top/v/res/16959196.html', 'https://8kun.top/v/res/16960398.html', 'https://8kun.top/v/res/16960397.html', 'https://8kun.top/v/res/16960380.html', 'https://8kun.top/v/res/16960374.html', 'https://8kun.top/v/res/16960371.html', 'https://8kun.top/v/res/16960370.html', 'https://8kun.top/v/res/16960368.html', 'https://8kun.top/v/res/16960379.html', 'https://8kun.top/v/res/16960377.html', 'https://8kun.top/v/res/16960378.html', 'https://8kun.top/v/res/16960376.html'], ['https://8kun.top/v/res/16960373.html', 'https://8kun.top/v/res/16960375.html', 'https://8kun.top/v/res/16960369.html', 'https://8kun.top/v/res/16960372.html', 'https://8kun.top/v/res/16960367.html', 'https://8kun.top/v/res/16960361.html', 'https://8kun.top/v/res/16943922.html', 'https://8kun.top/v/res/16960322.html', 'https://8kun.top/v/res/16960321.html', 'https://8kun.top/v/res/16960320.html', 'https://8kun.top/v/res/16960312.html', 'https://8kun.top/v/res/16960313.html', 'https://8kun.top/v/res/16960311.html'], ['https://8kun.top/v/res/16960301.html', 'https://8kun.top/v/res/16960298.html', 'https://8kun.top/v/res/16960297.html', 'https://8kun.top/v/res/16960296.html', 'https://8kun.top/v/res/16960295.html', 'https://8kun.top/v/res/16960294.html', 'https://8kun.top/v/res/16960293.html', 'https://8kun.top/v/res/16960291.html', 'https://8kun.top/v/res/16960292.html', 'https://8kun.top/v/res/16960290.html', 'https://8kun.top/v/res/16960030.html', 'https://8kun.top/v/res/16960078.html', 'https://8kun.top/v/res/16960272.html', 'https://8kun.top/v/res/16960051.html', 'https://8kun.top/v/res/16724505.html'], ['https://8kun.top/v/res/16959988.html', 'https://8kun.top/v/res/16936166.html', 'https://8kun.top/v/res/16960255.html', 'https://8kun.top/v/res/16959880.html', 'https://8kun.top/v/res/16960250.html', 'https://8kun.top/v/res/16951632.html', 'https://8kun.top/v/res/16960214.html', 'https://8kun.top/v/res/16960170.html', 'https://8kun.top/v/res/16960194.html', 'https://8kun.top/v/res/16960185.html', 'https://8kun.top/v/res/16960180.html', 'https://8kun.top/v/res/16960166.html', 'https://8kun.top/v/res/16954404.html'], ['https://8kun.top/v/res/16960162.html', 'https://8kun.top/v/res/16960146.html', 'https://8kun.top/v/res/16960124.html', 'https://8kun.top/v/res/16960115.html', 'https://8kun.top/v/res/16946885.html', 'https://8kun.top/v/res/16960045.html', 'https://8kun.top/v/res/16959893.html', 'https://8kun.top/v/res/16959971.html', 'https://8kun.top/v/res/16959974.html', 'https://8kun.top/v/res/16956334.html', 'https://8kun.top/v/res/16956497.html', 'https://8kun.top/v/res/16957089.html', 'https://8kun.top/v/res/16959970.html', 'https://8kun.top/v/res/16959967.html'], ['https://8kun.top/v/res/16959949.html', 'https://8kun.top/v/res/16959811.html', 'https://8kun.top/v/res/16959952.html', 'https://8kun.top/v/res/16956873.html', 'https://8kun.top/v/res/16959885.html', 'https://8kun.top/v/res/16959876.html', 'https://8kun.top/v/res/16959874.html', 'https://8kun.top/v/res/16959845.html', 'https://8kun.top/v/res/16943485.html', 'https://8kun.top/v/res/16959841.html', 'https://8kun.top/v/res/16959824.html', 'https://8kun.top/v/res/16959810.html', 'https://8kun.top/v/res/16959809.html', 'https://8kun.top/v/res/16959806.html', 'https://8kun.top/v/res/16959802.html'], ['https://8kun.top/v/res/16959039.html', 'https://8kun.top/v/res/16959784.html', 'https://8kun.top/v/res/16959793.html', 'https://8kun.top/v/res/16959791.html', 'https://8kun.top/v/res/16959790.html', 'https://8kun.top/v/res/16959788.html', 'https://8kun.top/v/res/16959511.html', 'https://8kun.top/v/res/16959773.html', 'https://8kun.top/v/res/16959734.html', 'https://8kun.top/v/res/16943093.html', 'https://8kun.top/v/res/16959550.html', 'https://8kun.top/v/res/16959670.html', 'https://8kun.top/v/res/16959747.html', 'https://8kun.top/v/res/16959527.html', 'https://8kun.top/v/res/16959736.html'], ['https://8kun.top/v/res/16951154.html', 'https://8kun.top/v/res/16949651.html', 'https://8kun.top/v/res/16938919.html', 'https://8kun.top/v/res/16957316.html', 'https://8kun.top/v/res/16959678.html', 'https://8kun.top/v/res/16955490.html', 'https://8kun.top/v/res/16953717.html', 'https://8kun.top/v/res/16959646.html']]\n"
     ]
    }
   ],
   "source": [
    "print(urls_to_scrape)"
   ]
  },
  {
   "attachments": {},
   "cell_type": "markdown",
   "metadata": {
    "collapsed": false
   },
   "source": [
    "## Scrape all threads\n",
    "This is a new web page, so we create a new request."
   ]
  },
  {
   "cell_type": "code",
   "execution_count": 69,
   "metadata": {
    "collapsed": false,
    "pycharm": {
     "name": "#%%\n"
    }
   },
   "outputs": [],
   "source": [
    "from pandas import DataFrame\n",
    "from typing import Optional\n",
    "import pandas as pd\n",
    "\n",
    "video_games_data: Optional[DataFrame] = None\n",
    "\n",
    "for list_of_threads in urls_to_scrape:\n",
    "    for url in list_of_threads:\n",
    "        sleep(randint(1,7))\n",
    "        r = requests.get(url)\n",
    "\n",
    "        soup_thread = BeautifulSoup(r.content, 'html.parser')\n",
    "\n",
    "        original_post = soup_thread.find('div', {'class': 'post op has-file body-not-empty'})\n",
    "\n",
    "        if original_post is None:\n",
    "            continue\n",
    "\n",
    "        title_list = []\n",
    "        poster_id_list = []\n",
    "        post_number_list = []\n",
    "        replies_to_list = []\n",
    "        post_text_list = []\n",
    "        links_list = []\n",
    "\n",
    "        # Get the title\n",
    "        title = original_post.find('span', {'class': 'subject'})\n",
    "        if title is None:\n",
    "            continue\n",
    "\n",
    "        # Find all replies\n",
    "        replies = soup_thread.find_all('div', {'class': 'post reply body-not-empty'})\n",
    "\n",
    "        for reply in replies:\n",
    "            # Get the poster ID\n",
    "            poster_id = reply.find('span', {'class': 'poster_id'})\n",
    "            if not poster_id:\n",
    "                continue\n",
    "            poster_id_list.append(poster_id.text)\n",
    "\n",
    "            # Get the post number\n",
    "            post_no = reply.find('a', {'class': 'post_no'})['href'].split('#')[-1]\n",
    "            post_number_list.append(post_no)\n",
    "\n",
    "            # Get the text\n",
    "            text = reply.find('div', {'class': 'body'})\n",
    "            if not text:\n",
    "                continue\n",
    "\n",
    "            # Get replies separate\n",
    "            if '>>' in text.text:\n",
    "                splitted_text = text.text.split('>>')\n",
    "                count_split = 0\n",
    "                for split in splitted_text:\n",
    "                    if len(split) > 0:\n",
    "                        replies_to_list.append(split[:8])\n",
    "                        post_text_list.append(split[8:])\n",
    "\n",
    "                        # Check for links and save them\n",
    "                        if 'http' in split[6:]:\n",
    "                            links_to_add = []\n",
    "                            link_splitter = split[6:].split('http')\n",
    "                            for link_split in link_splitter:\n",
    "                                if '//' in link_split:\n",
    "                                    links_to_add.append('http' + link_split.split(' ')[0])\n",
    "                            links_list.append(links_to_add)\n",
    "                        else:\n",
    "                            links_list.append(None)\n",
    "                        count_split += 1\n",
    "                while count_split > 1:\n",
    "                    poster_id_list.append(poster_id.text)\n",
    "                    post_number_list.append(post_no)\n",
    "                    count_split -= 1\n",
    "            else:\n",
    "                replies_to_list.append(None)\n",
    "                post_text_list.append(text.text)\n",
    "                # Check for links and save them\n",
    "                if 'http' in text.text:\n",
    "                    links_to_add = []\n",
    "                    link_splitter = text.text.split('http')\n",
    "                    for link_split in link_splitter:\n",
    "                        if '//' in link_split:\n",
    "                            links_to_add.append('http' + link_split.split(' ')[0])\n",
    "                    links_list.append(links_to_add)\n",
    "                else:\n",
    "                    links_list.append(None)\n",
    "\n",
    "\n",
    "        data = {\n",
    "            'thread_title':title,\n",
    "            'post_number':post_number_list,\n",
    "            'poster_id': poster_id_list,\n",
    "            'replies_to': replies_to_list,\n",
    "            'text': post_text_list,\n",
    "            'links': links_list,\n",
    "        }\n",
    "\n",
    "        if video_games_data is None:\n",
    "            video_games_data = pd.DataFrame(data)\n",
    "        else:\n",
    "            video_games_data = pd.concat([video_games_data, pd.DataFrame(data)])"
   ]
  },
  {
   "attachments": {},
   "cell_type": "markdown",
   "metadata": {
    "collapsed": false
   },
   "source": [
    "## Data cleaning\n",
    "First, we delete > from text."
   ]
  },
  {
   "cell_type": "code",
   "execution_count": 70,
   "metadata": {
    "collapsed": false,
    "pycharm": {
     "name": "#%%\n"
    }
   },
   "outputs": [
    {
     "data": {
      "text/plain": [
       "0                                  Why isn't this loli?\n",
       "1        Because technically she already is canonically\n",
       "2                                              Yennefer\n",
       "3                   tfw no mark and luciano r34why live\n",
       "4                            he calls women cute Soyboy\n",
       "                            ...                        \n",
       "67    What do you mean no unlocks? Does it just get ...\n",
       "68    Without something like the Peacock Emulator yo...\n",
       "69    Female protagonists, seriously there are too many\n",
       "70    sounds like you guys just want to go outside o...\n",
       "71     not being able to save wherever you are on a map\n",
       "Name: text, Length: 1319, dtype: object"
      ]
     },
     "execution_count": 70,
     "metadata": {},
     "output_type": "execute_result"
    }
   ],
   "source": [
    "video_games_data['text'] = video_games_data['text'].apply(lambda x: x.replace(\">\", \"\"))\n",
    "video_games_data['text']"
   ]
  },
  {
   "cell_type": "code",
   "execution_count": 71,
   "metadata": {
    "collapsed": false,
    "pycharm": {
     "name": "#%%\n"
    }
   },
   "outputs": [
    {
     "data": {
      "text/plain": [
       "5    16944876\n",
       "5    16956409\n",
       "5        None\n",
       "5    16959979\n",
       "5    16959626\n",
       "5    16951489\n",
       "5        None\n",
       "5    16959200\n",
       "5    16943940\n",
       "5    16724866\n",
       "5        None\n",
       "5        None\n",
       "5        None\n",
       "5    16956505\n",
       "5    16957102\n",
       "5        None\n",
       "5    16943533\n",
       "5        None\n",
       "5    16943541\n",
       "5    16951361\n",
       "5    16949658\n",
       "5        None\n",
       "5        None\n",
       "Name: replies_to, dtype: object"
      ]
     },
     "execution_count": 71,
     "metadata": {},
     "output_type": "execute_result"
    }
   ],
   "source": [
    "video_games_data.loc[5]['replies_to']"
   ]
  },
  {
   "cell_type": "code",
   "execution_count": 72,
   "metadata": {
    "collapsed": false,
    "pycharm": {
     "name": "#%%\n"
    }
   },
   "outputs": [
    {
     "data": {
      "text/html": [
       "<div>\n",
       "<style scoped>\n",
       "    .dataframe tbody tr th:only-of-type {\n",
       "        vertical-align: middle;\n",
       "    }\n",
       "\n",
       "    .dataframe tbody tr th {\n",
       "        vertical-align: top;\n",
       "    }\n",
       "\n",
       "    .dataframe thead th {\n",
       "        text-align: right;\n",
       "    }\n",
       "</style>\n",
       "<table border=\"1\" class=\"dataframe\">\n",
       "  <thead>\n",
       "    <tr style=\"text-align: right;\">\n",
       "      <th></th>\n",
       "      <th>thread_title</th>\n",
       "      <th>post_number</th>\n",
       "      <th>poster_id</th>\n",
       "      <th>replies_to</th>\n",
       "      <th>text</th>\n",
       "      <th>links</th>\n",
       "    </tr>\n",
       "  </thead>\n",
       "  <tbody>\n",
       "    <tr>\n",
       "      <th>0</th>\n",
       "      <td>Who is the hottest Vidya girl</td>\n",
       "      <td>16944768</td>\n",
       "      <td>98f48b</td>\n",
       "      <td>None</td>\n",
       "      <td>Why isn't this loli?</td>\n",
       "      <td>None</td>\n",
       "    </tr>\n",
       "    <tr>\n",
       "      <th>1</th>\n",
       "      <td>Who is the hottest Vidya girl</td>\n",
       "      <td>16944769</td>\n",
       "      <td>f89fad</td>\n",
       "      <td>16944768</td>\n",
       "      <td>Because technically she already is canonically</td>\n",
       "      <td>None</td>\n",
       "    </tr>\n",
       "    <tr>\n",
       "      <th>2</th>\n",
       "      <td>Who is the hottest Vidya girl</td>\n",
       "      <td>16944793</td>\n",
       "      <td>beab64</td>\n",
       "      <td>None</td>\n",
       "      <td>Yennefer</td>\n",
       "      <td>None</td>\n",
       "    </tr>\n",
       "    <tr>\n",
       "      <th>3</th>\n",
       "      <td>Who is the hottest Vidya girl</td>\n",
       "      <td>16944829</td>\n",
       "      <td>9d2654</td>\n",
       "      <td>16944821</td>\n",
       "      <td>tfw no mark and luciano r34why live</td>\n",
       "      <td>None</td>\n",
       "    </tr>\n",
       "    <tr>\n",
       "      <th>4</th>\n",
       "      <td>Who is the hottest Vidya girl</td>\n",
       "      <td>16944867</td>\n",
       "      <td>f89fad</td>\n",
       "      <td>16944852</td>\n",
       "      <td>he calls women cute Soyboy</td>\n",
       "      <td>None</td>\n",
       "    </tr>\n",
       "    <tr>\n",
       "      <th>...</th>\n",
       "      <td>...</td>\n",
       "      <td>...</td>\n",
       "      <td>...</td>\n",
       "      <td>...</td>\n",
       "      <td>...</td>\n",
       "      <td>...</td>\n",
       "    </tr>\n",
       "    <tr>\n",
       "      <th>67</th>\n",
       "      <td>Things that you hate in video games</td>\n",
       "      <td>16959218</td>\n",
       "      <td>e526a8</td>\n",
       "      <td>16953728</td>\n",
       "      <td>What do you mean no unlocks? Does it just get ...</td>\n",
       "      <td>None</td>\n",
       "    </tr>\n",
       "    <tr>\n",
       "      <th>68</th>\n",
       "      <td>Things that you hate in video games</td>\n",
       "      <td>16959220</td>\n",
       "      <td>879cf4</td>\n",
       "      <td>16959218</td>\n",
       "      <td>Without something like the Peacock Emulator yo...</td>\n",
       "      <td>None</td>\n",
       "    </tr>\n",
       "    <tr>\n",
       "      <th>69</th>\n",
       "      <td>Things that you hate in video games</td>\n",
       "      <td>16959517</td>\n",
       "      <td>55cb92</td>\n",
       "      <td>None</td>\n",
       "      <td>Female protagonists, seriously there are too many</td>\n",
       "      <td>None</td>\n",
       "    </tr>\n",
       "    <tr>\n",
       "      <th>70</th>\n",
       "      <td>Things that you hate in video games</td>\n",
       "      <td>16959664</td>\n",
       "      <td>f49d91</td>\n",
       "      <td>None</td>\n",
       "      <td>sounds like you guys just want to go outside o...</td>\n",
       "      <td>None</td>\n",
       "    </tr>\n",
       "    <tr>\n",
       "      <th>71</th>\n",
       "      <td>Things that you hate in video games</td>\n",
       "      <td>16960151</td>\n",
       "      <td>623f81</td>\n",
       "      <td>None</td>\n",
       "      <td>not being able to save wherever you are on a map</td>\n",
       "      <td>None</td>\n",
       "    </tr>\n",
       "  </tbody>\n",
       "</table>\n",
       "<p>1319 rows × 6 columns</p>\n",
       "</div>"
      ],
      "text/plain": [
       "                           thread_title post_number poster_id replies_to  \\\n",
       "0         Who is the hottest Vidya girl    16944768    98f48b       None   \n",
       "1         Who is the hottest Vidya girl    16944769    f89fad   16944768   \n",
       "2         Who is the hottest Vidya girl    16944793    beab64       None   \n",
       "3         Who is the hottest Vidya girl    16944829    9d2654   16944821   \n",
       "4         Who is the hottest Vidya girl    16944867    f89fad   16944852   \n",
       "..                                  ...         ...       ...        ...   \n",
       "67  Things that you hate in video games    16959218    e526a8   16953728   \n",
       "68  Things that you hate in video games    16959220    879cf4   16959218   \n",
       "69  Things that you hate in video games    16959517    55cb92       None   \n",
       "70  Things that you hate in video games    16959664    f49d91       None   \n",
       "71  Things that you hate in video games    16960151    623f81       None   \n",
       "\n",
       "                                                 text links  \n",
       "0                                Why isn't this loli?  None  \n",
       "1      Because technically she already is canonically  None  \n",
       "2                                            Yennefer  None  \n",
       "3                 tfw no mark and luciano r34why live  None  \n",
       "4                          he calls women cute Soyboy  None  \n",
       "..                                                ...   ...  \n",
       "67  What do you mean no unlocks? Does it just get ...  None  \n",
       "68  Without something like the Peacock Emulator yo...  None  \n",
       "69  Female protagonists, seriously there are too many  None  \n",
       "70  sounds like you guys just want to go outside o...  None  \n",
       "71   not being able to save wherever you are on a map  None  \n",
       "\n",
       "[1319 rows x 6 columns]"
      ]
     },
     "execution_count": 72,
     "metadata": {},
     "output_type": "execute_result"
    }
   ],
   "source": [
    "video_games_data"
   ]
  },
  {
   "cell_type": "code",
   "execution_count": 73,
   "metadata": {
    "collapsed": false,
    "pycharm": {
     "name": "#%%\n"
    }
   },
   "outputs": [],
   "source": [
    "video_games_data.to_csv(\"forum_8kun.csv\")"
   ]
  }
 ],
 "metadata": {
  "kernelspec": {
   "display_name": "Python 3",
   "language": "python",
   "name": "python3"
  },
  "language_info": {
   "codemirror_mode": {
    "name": "ipython",
    "version": 2
   },
   "file_extension": ".py",
   "mimetype": "text/x-python",
   "name": "python",
   "nbconvert_exporter": "python",
   "pygments_lexer": "ipython2",
   "version": "2.7.6"
  }
 },
 "nbformat": 4,
 "nbformat_minor": 0
}
