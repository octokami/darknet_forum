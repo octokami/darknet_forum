{
 "cells": [
  {
   "cell_type": "markdown",
   "source": [
    "# Scraping of VGR video gaming forum\n",
    "We start by importing the request library and getting the main page."
   ],
   "metadata": {
    "collapsed": false
   }
  },
  {
   "cell_type": "code",
   "execution_count": 2,
   "outputs": [],
   "source": [
    "import requests\n",
    "from bs4 import BeautifulSoup"
   ],
   "metadata": {
    "collapsed": false,
    "pycharm": {
     "name": "#%%\n"
    }
   }
  },
  {
   "cell_type": "code",
   "execution_count": 3,
   "outputs": [
    {
     "data": {
      "text/plain": "<Response [200]>"
     },
     "execution_count": 3,
     "metadata": {},
     "output_type": "execute_result"
    }
   ],
   "source": [
    "url = 'https://www.vgr.com/forum/forum/37-gaming-forum/'\n",
    "\n",
    "cookies = {\n",
    "    'ips4_hasJS': 'true',\n",
    "    'ips4_ipsTimezone': 'Europe/Amsterdam',\n",
    "    '__qca': 'P0-1185121426-1683547568961',\n",
    "    '_ga': 'GA1.2.770526334.1683547569',\n",
    "    '_ga_FG1X7MCBQC': 'GS1.1.1683547568.1.0.1683547568.0.0.0',\n",
    "    '_gat_gtag_UA_117339006_2': '1',\n",
    "    '_gid': 'GA1.2.1917616821.1683547569',\n",
    "    'properSessionStorage': 'eyJ1dWlkIjoiNTY5NTdhNmYtOWY4Yi00ODA0LThjNTItY2ZhM2IwNjg2NWIwIiwiZGVwdGgiOjEsInJlZmVycmVyIjoiaHR0cHM6Ly93d3cuZ29vZ2xlLmNvbS8iLCJnY2xpZCI6IiIsImZiY2xpZCI6IiIsInV0bV9jYW1wYWlnbiI6IiIsInV0bV9zb3VyY2UiOiIiLCJ1dG1fbWVkaXVtIjoiIiwidXRtX3Rlcm0iOiIiLCJ1dG1fY29udGVudCI6IiIsInV0bV90ZW1wbGF0ZSI6IiIsInV0bV9yZWZlcnJlciI6IiIsInV0bV9hZHNldCI6IiIsInV0bV9zdWJpZCI6IiIsInJldmVudWUiOjAsImJpZF9hdmciOnt9LCJub19iaWRfY250Ijp7fSwiYXVjdGlvbl9jb3VudCI6MCwibGFzdF90aHJlc2hvbGQiOjB9',\n",
    "    'q82nja': '1',\n",
    "    'ips4_IPSSessionFront': '5ba2282c61e6e7eecba2a17b90321637',\n",
    "}\n",
    "\n",
    "headers = {\n",
    "    'User-Agent': 'Mozilla/5.0 (Macintosh; Intel Mac OS X 10_15_7) AppleWebKit/605.1.15 (KHTML, like Gecko) Version/16.4 Safari/605.1.15',\n",
    "}\n",
    "\n",
    "r = requests.get(url=url, headers=headers, cookies=cookies)\n",
    "r"
   ],
   "metadata": {
    "collapsed": false,
    "pycharm": {
     "name": "#%%\n"
    }
   }
  },
  {
   "cell_type": "code",
   "execution_count": 4,
   "outputs": [
    {
     "data": {
      "text/plain": "'https://www.vgr.com/forum/topic/60-last-game-played/'"
     },
     "execution_count": 4,
     "metadata": {},
     "output_type": "execute_result"
    }
   ],
   "source": [
    "soup = BeautifulSoup(r.content)\n",
    "\n",
    "# The forum consists of multiple threads. Every thread is in a div item with class=ipsDataItem_main, so we will find all of the threads first.\n",
    "threads = soup.find_all(\"div\", {\"class\": \"ipsDataItem_main\"})\n",
    "len(threads)\n",
    "\n",
    "threads[0].find('a')['href']"
   ],
   "metadata": {
    "collapsed": false,
    "pycharm": {
     "name": "#%%\n"
    }
   }
  },
  {
   "cell_type": "code",
   "execution_count": 5,
   "outputs": [],
   "source": [
    "# Scrape and get links\n",
    "def get_post_link(url: str) -> list[str]:\n",
    "    \"\"\"\n",
    "    Scrapes the page and returns the link of the post\n",
    "    :param url: the url of the main page with all threads\n",
    "    :return: All urls to scrape\n",
    "    \"\"\"\n",
    "    all_links_on_page: list[str] = []\n",
    "\n",
    "    # Scrape\n",
    "    r = requests.get(url, headers=headers, cookies=cookies)\n",
    "\n",
    "    # Next, we use BeautifulSoup to parse the HTML and look into the contents.\n",
    "    soup = BeautifulSoup(r.content, 'html.parser')\n",
    "\n",
    "    # The forum consists of multiple threads. Every thread is in a div item with class=ipsDataItem_main, so we will find all of the threads first.\n",
    "    threads = soup.find_all(\"div\", {\"class\": \"ipsDataItem_main\"})\n",
    "\n",
    "    # Get links from threads\n",
    "    for thread in threads:\n",
    "        # Get the link to the full thread\n",
    "        if thread.find('a'):\n",
    "            link_to_thread = thread.find('a')['href']\n",
    "            all_links_on_page.append(link_to_thread)\n",
    "\n",
    "        # If it cannot be found, go to the next thread\n",
    "        else:\n",
    "            continue\n",
    "\n",
    "    return all_links_on_page"
   ],
   "metadata": {
    "collapsed": false,
    "pycharm": {
     "name": "#%%\n"
    }
   }
  },
  {
   "cell_type": "code",
   "execution_count": 6,
   "outputs": [],
   "source": [
    "from time import sleep\n",
    "from random import randint\n",
    "\n",
    "# List of all links to scrape:\n",
    "urls_to_scrape: list[list[str]] = []\n",
    "\n",
    "# Main URL\n",
    "url = 'https://www.vgr.com/forum/forum/37-gaming-forum/'\n",
    "\n",
    "urls_to_scrape.append(get_post_link(url))\n",
    "\n",
    "for page in range(2, 170):  # There are 170 pages\n",
    "    sleep(randint(1,7))\n",
    "    url = f'https://www.vgr.com/forum/forum/37-gaming-forum/page/{page}/'\n",
    "    urls_to_scrape.append(get_post_link(url))"
   ],
   "metadata": {
    "collapsed": false,
    "pycharm": {
     "name": "#%%\n"
    }
   }
  },
  {
   "cell_type": "markdown",
   "source": [
    "Next download the forums themselves."
   ],
   "metadata": {
    "collapsed": false
   }
  },
  {
   "cell_type": "markdown",
   "source": [
    "## Scrape all threads\n",
    "This is a new web page, so we create a new request."
   ],
   "metadata": {
    "collapsed": false
   }
  },
  {
   "cell_type": "code",
   "execution_count": 21,
   "outputs": [],
   "source": [
    "from pandas import DataFrame\n",
    "from typing import Optional\n",
    "import pandas as pd\n",
    "\n",
    "video_games_data: Optional[DataFrame] = None\n",
    "\n",
    "for list_of_threads in urls_to_scrape:\n",
    "    for url in list_of_threads:\n",
    "        sleep(randint(1,7))\n",
    "        r = requests.get(url, cookies=cookies, headers=headers)\n",
    "\n",
    "        soup_thread = BeautifulSoup(r.content, 'html.parser')\n",
    "\n",
    "        title_list = []\n",
    "        poster_id_list = []\n",
    "        post_text_list = []\n",
    "\n",
    "        # Get the title\n",
    "        title = soup_thread.find('span', {'class': 'ipsType_break ipsContained'})\n",
    "        if title is not None:\n",
    "            title = title.text\n",
    "\n",
    "        # Find all replies\n",
    "        replies = soup_thread.find_all('article')\n",
    "\n",
    "        for reply in replies:\n",
    "            # Get the poster ID\n",
    "            poster_id = reply.find('a', {'class': 'ipsType_break'})\n",
    "            if poster_id is not None:\n",
    "                poster_id = poster_id.text\n",
    "\n",
    "            # Get the text\n",
    "            text = reply.find('div', {'data-role': 'commentContent'})\n",
    "            if text is None:\n",
    "                continue\n",
    "\n",
    "            poster_id_list.append(poster_id)\n",
    "            post_text_list.append(text.text)\n",
    "\n",
    "        data = {\n",
    "            'thread_title':title,\n",
    "            'poster_id': poster_id_list,\n",
    "            'text': post_text_list,\n",
    "        }\n",
    "\n",
    "        if video_games_data is None:\n",
    "            video_games_data = pd.DataFrame(data)\n",
    "        else:\n",
    "            video_games_data = pd.concat([video_games_data, pd.DataFrame(data)])"
   ],
   "metadata": {
    "collapsed": false,
    "pycharm": {
     "name": "#%%\n"
    }
   }
  },
  {
   "cell_type": "markdown",
   "source": [
    "## Data cleaning\n",
    "First, we delete \\n from the text."
   ],
   "metadata": {
    "collapsed": false
   }
  },
  {
   "cell_type": "code",
   "execution_count": 22,
   "outputs": [
    {
     "data": {
      "text/plain": "0    \\n\\nWhat was the last game you played and for ...\n1    \\n\\nIf we're talking real gaming then Ni No Ku...\n2    \\n\\nLast game I played on ps3 was minecraft. S...\n3    \\n\\nThe last game I played was Counter Strike:...\n4    \\n\\nThis is hilarious because I'm in the exact...\n                           ...                        \n6    \\n\\nThe trouble is--and I know I'm playing dev...\n0    \\n\\nFor me, it's gotta be Der Reise as it was ...\n0    \\n\\nOne thing that annoys me about DLC is the ...\n1    \\n\\nI don't buy DLC very often unless it is fo...\n2    \\n\\nGreat topic! Hmm, I think The Shivering Is...\nName: text, Length: 38469, dtype: object"
     },
     "execution_count": 22,
     "metadata": {},
     "output_type": "execute_result"
    }
   ],
   "source": [
    "video_games_data['text']"
   ],
   "metadata": {
    "collapsed": false,
    "pycharm": {
     "name": "#%%\n"
    }
   }
  },
  {
   "cell_type": "code",
   "execution_count": 44,
   "outputs": [],
   "source": [
    "video_games_data['text'] = video_games_data['text'].apply(lambda x: x.replace(\"\\n\", \" \"))\n",
    "video_games_data['thread_title'] = video_games_data['thread_title'].apply(lambda x: x.replace(\"\\n\", \" \"))"
   ],
   "metadata": {
    "collapsed": false,
    "pycharm": {
     "name": "#%%\n"
    }
   }
  },
  {
   "cell_type": "code",
   "execution_count": 48,
   "outputs": [],
   "source": [
    "video_games_data.reset_index(drop=True, inplace=True)"
   ],
   "metadata": {
    "collapsed": false,
    "pycharm": {
     "name": "#%%\n"
    }
   }
  },
  {
   "cell_type": "code",
   "execution_count": 49,
   "outputs": [],
   "source": [
    "video_games_data.to_csv(\"forum_vgr.csv\")"
   ],
   "metadata": {
    "collapsed": false,
    "pycharm": {
     "name": "#%%\n"
    }
   }
  },
  {
   "cell_type": "code",
   "execution_count": null,
   "outputs": [],
   "source": [],
   "metadata": {
    "collapsed": false,
    "pycharm": {
     "name": "#%%\n"
    }
   }
  }
 ],
 "metadata": {
  "kernelspec": {
   "display_name": "Python 3",
   "language": "python",
   "name": "python3"
  },
  "language_info": {
   "codemirror_mode": {
    "name": "ipython",
    "version": 2
   },
   "file_extension": ".py",
   "mimetype": "text/x-python",
   "name": "python",
   "nbconvert_exporter": "python",
   "pygments_lexer": "ipython2",
   "version": "2.7.6"
  }
 },
 "nbformat": 4,
 "nbformat_minor": 0
}